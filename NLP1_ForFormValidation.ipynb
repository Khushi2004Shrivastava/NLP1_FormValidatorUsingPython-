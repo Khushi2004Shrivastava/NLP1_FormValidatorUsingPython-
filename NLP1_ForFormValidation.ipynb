{
  "nbformat": 4,
  "nbformat_minor": 0,
  "metadata": {
    "colab": {
      "provenance": [],
      "authorship_tag": "ABX9TyOT7f31kifDRni0i0pZWbC/",
      "include_colab_link": true
    },
    "kernelspec": {
      "name": "python3",
      "display_name": "Python 3"
    },
    "language_info": {
      "name": "python"
    }
  },
  "cells": [
    {
      "cell_type": "markdown",
      "metadata": {
        "id": "view-in-github",
        "colab_type": "text"
      },
      "source": [
        "<a href=\"https://colab.research.google.com/github/Khushi2004Shrivastava/NLP1_FormValidatorUsingPython-/blob/main/NLP1_ForFormValidation.ipynb\" target=\"_parent\"><img src=\"https://colab.research.google.com/assets/colab-badge.svg\" alt=\"Open In Colab\"/></a>"
      ]
    },
    {
      "cell_type": "code",
      "execution_count": 1,
      "metadata": {
        "id": "UYgTGvn_Qqfy"
      },
      "outputs": [],
      "source": [
        "import re"
      ]
    },
    {
      "cell_type": "markdown",
      "source": [
        "re for regular expression\n"
      ],
      "metadata": {
        "id": "cqFqK32QRGVz"
      }
    },
    {
      "cell_type": "markdown",
      "source": [
        "use regex101.com"
      ],
      "metadata": {
        "id": "S7zrJX6XT8ry"
      }
    },
    {
      "cell_type": "code",
      "source": [
        "chat1='proj1:you_ask_lot_of_questions_1234567891,abcd@xyz.com'\n",
        "chat2='proj1:here_it_is_(123)-456-7891,abc_123@xyz.com'\n",
        "chat3='proj1:yes,phone:1234567891_email:abc_xyz@xyz.com'"
      ],
      "metadata": {
        "id": "13M1AbHHUAAU"
      },
      "execution_count": 2,
      "outputs": []
    },
    {
      "cell_type": "markdown",
      "source": [
        "may use python re-regular expression operations (website) for help"
      ],
      "metadata": {
        "id": "GWID339JUTRz"
      }
    },
    {
      "cell_type": "code",
      "source": [
        "pattern_phoneno='\\d{10}|\\(\\d{3}\\)-\\d{3}-\\d{4}'\n",
        "matches=re.findall(pattern_phoneno,chat3)\n",
        "matches"
      ],
      "metadata": {
        "colab": {
          "base_uri": "https://localhost:8080/"
        },
        "id": "2afD4JU7U1af",
        "outputId": "f1f667cf-24cd-487e-e4c1-fd8fbf1858c2"
      },
      "execution_count": 3,
      "outputs": [
        {
          "output_type": "execute_result",
          "data": {
            "text/plain": [
              "['1234567891']"
            ]
          },
          "metadata": {},
          "execution_count": 3
        }
      ]
    },
    {
      "cell_type": "code",
      "source": [
        "pattern_email='[a-z0-9A-Z_]*@[a-z0-9A-Z]*\\.com'\n",
        "matches=re.findall(pattern_email,chat3)\n",
        "matches"
      ],
      "metadata": {
        "colab": {
          "base_uri": "https://localhost:8080/"
        },
        "id": "E6FFBhJvXxAF",
        "outputId": "49779de7-37c5-4ef2-a38b-ff2a44a79475"
      },
      "execution_count": 4,
      "outputs": [
        {
          "output_type": "execute_result",
          "data": {
            "text/plain": [
              "['abc_xyz@xyz.com']"
            ]
          },
          "metadata": {},
          "execution_count": 4
        }
      ]
    }
  ]
}